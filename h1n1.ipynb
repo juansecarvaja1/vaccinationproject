{
 "cells": [
  {
   "cell_type": "code",
   "execution_count": 2,
   "metadata": {},
   "outputs": [],
   "source": [
    "import pandas as pd"
   ]
  },
  {
   "cell_type": "code",
   "execution_count": 4,
   "metadata": {},
   "outputs": [],
   "source": [
    "csv=pd.read_csv('training_set_features.csv')\n",
    "csv.columns\n",
    "csv=csv.drop('respondent_id', axis=1)\n",
    "test=pd.read_csv('training_set_labels.csv')\n",
    "test=test.drop('respondent_id', axis=1)"
   ]
  },
  {
   "cell_type": "code",
   "execution_count": 5,
   "metadata": {},
   "outputs": [
    {
     "name": "stdout",
     "output_type": "stream",
     "text": [
      "<class 'numpy.float64'>\n",
      "<class 'numpy.float64'>\n",
      "<class 'numpy.float64'>\n",
      "<class 'numpy.float64'>\n",
      "<class 'numpy.float64'>\n",
      "<class 'numpy.float64'>\n",
      "<class 'numpy.float64'>\n",
      "<class 'numpy.float64'>\n",
      "<class 'numpy.float64'>\n",
      "<class 'numpy.float64'>\n",
      "<class 'numpy.float64'>\n",
      "<class 'numpy.float64'>\n",
      "<class 'numpy.float64'>\n",
      "<class 'numpy.float64'>\n",
      "<class 'numpy.float64'>\n",
      "<class 'numpy.float64'>\n",
      "<class 'numpy.float64'>\n",
      "<class 'numpy.float64'>\n",
      "<class 'numpy.float64'>\n",
      "<class 'numpy.float64'>\n",
      "<class 'numpy.float64'>\n",
      "<class 'str'>\n",
      "<class 'str'>\n",
      "<class 'str'>\n",
      "<class 'str'>\n",
      "<class 'str'>\n",
      "<class 'str'>\n",
      "<class 'str'>\n",
      "<class 'str'>\n",
      "<class 'str'>\n",
      "<class 'str'>\n",
      "<class 'numpy.float64'>\n",
      "<class 'numpy.float64'>\n",
      "<class 'str'>\n",
      "<class 'str'>\n"
     ]
    }
   ],
   "source": [
    "string=[]\n",
    "for x in csv.columns:\n",
    "    print(type(csv[x][1]))\n",
    "    if type(csv[x][1]) is str:\n",
    "        string.append(x)\n"
   ]
  },
  {
   "cell_type": "code",
   "execution_count": 6,
   "metadata": {},
   "outputs": [],
   "source": [
    "from sklearn.preprocessing import LabelEncoder\n",
    "label_encoder = LabelEncoder()\n",
    "for x in string:\n",
    "    csv[x]=label_encoder.fit_transform(csv[x])\n"
   ]
  },
  {
   "cell_type": "code",
   "execution_count": 7,
   "metadata": {},
   "outputs": [
    {
     "name": "stdout",
     "output_type": "stream",
     "text": [
      "h1n1_concern                   0.003445\n",
      "h1n1_knowledge                 0.004343\n",
      "behavioral_antiviral_meds      0.002658\n",
      "behavioral_avoidance           0.007788\n",
      "behavioral_face_mask           0.000711\n",
      "behavioral_wash_hands          0.001573\n",
      "behavioral_large_gatherings    0.003258\n",
      "behavioral_outside_home        0.003070\n",
      "behavioral_touch_face          0.004793\n",
      "doctor_recc_h1n1               0.080878\n",
      "doctor_recc_seasonal           0.080878\n",
      "chronic_med_condition          0.036358\n",
      "child_under_6_months           0.030704\n",
      "health_worker                  0.030104\n",
      "health_insurance               0.459580\n",
      "opinion_h1n1_vacc_effective    0.014640\n",
      "opinion_h1n1_risk              0.014528\n",
      "opinion_h1n1_sick_from_vacc    0.014790\n",
      "opinion_seas_vacc_effective    0.017299\n",
      "opinion_seas_risk              0.019246\n",
      "opinion_seas_sick_from_vacc    0.020107\n",
      "age_group                      0.000000\n",
      "education                      0.000000\n",
      "race                           0.000000\n",
      "sex                            0.000000\n",
      "income_poverty                 0.000000\n",
      "marital_status                 0.000000\n",
      "rent_or_own                    0.000000\n",
      "employment_status              0.000000\n",
      "hhs_geo_region                 0.000000\n",
      "census_msa                     0.000000\n",
      "household_adults               0.009323\n",
      "household_children             0.009323\n",
      "employment_industry            0.000000\n",
      "employment_occupation          0.000000\n",
      "dtype: float64\n"
     ]
    }
   ],
   "source": [
    "print(csv.isnull().mean())"
   ]
  },
  {
   "cell_type": "code",
   "execution_count": 8,
   "metadata": {},
   "outputs": [],
   "source": [
    "csv=csv.drop('health_insurance', axis=1)"
   ]
  },
  {
   "cell_type": "code",
   "execution_count": 9,
   "metadata": {},
   "outputs": [],
   "source": [
    "from sklearn.impute import SimpleImputer\n",
    "imputer = SimpleImputer(strategy='mean')\n",
    "imputer.fit(csv)\n",
    "csv= imputer.transform(csv)\n"
   ]
  },
  {
   "cell_type": "code",
   "execution_count": 10,
   "metadata": {},
   "outputs": [],
   "source": [
    "X=csv\n",
    "y=test"
   ]
  },
  {
   "cell_type": "code",
   "execution_count": 11,
   "metadata": {},
   "outputs": [],
   "source": [
    "from sklearn.model_selection import train_test_split\n",
    "X_train, X_test, y_train, y_test = train_test_split(X, y, test_size=0.2, random_state=42)"
   ]
  },
  {
   "cell_type": "code",
   "execution_count": 24,
   "metadata": {},
   "outputs": [],
   "source": [
    "from sklearn.ensemble import RandomForestClassifier\n",
    "from sklearn.metrics import accuracy_score\n",
    "acc=0\n",
    "n=0\n",
    "for x in range(80,100):\n",
    "    clf = RandomForestClassifier(n_estimators=x) \n",
    "    clf.fit(X_train, y_train)\n",
    "    y_pred=clf.predict(X_test)\n",
    "    accuracy = accuracy_score(y_test, y_pred)\n",
    "    if acc< accuracy:\n",
    "        acc=accuracy\n",
    "        n=x"
   ]
  },
  {
   "cell_type": "code",
   "execution_count": 25,
   "metadata": {},
   "outputs": [
    {
     "name": "stdout",
     "output_type": "stream",
     "text": [
      "0.6767128416323475 96\n"
     ]
    }
   ],
   "source": [
    "print(acc, n)"
   ]
  },
  {
   "cell_type": "code",
   "execution_count": 29,
   "metadata": {},
   "outputs": [
    {
     "name": "stderr",
     "output_type": "stream",
     "text": [
      "/tmp/ipykernel_529333/1582678607.py:4: FutureWarning: In a future version of pandas all arguments of DataFrame.drop except for the argument 'labels' will be keyword-only.\n",
      "  X_features.drop('respondent_id','health_insurance', axis=1)\n"
     ]
    },
    {
     "ename": "TypeError",
     "evalue": "DataFrame.drop() got multiple values for argument 'axis'",
     "output_type": "error",
     "traceback": [
      "\u001b[0;31m---------------------------------------------------------------------------\u001b[0m",
      "\u001b[0;31mTypeError\u001b[0m                                 Traceback (most recent call last)",
      "Cell \u001b[0;32mIn [29], line 4\u001b[0m\n\u001b[1;32m      2\u001b[0m \u001b[39mfor\u001b[39;00m x \u001b[39min\u001b[39;00m string:\n\u001b[1;32m      3\u001b[0m     X_features[x]\u001b[39m=\u001b[39mlabel_encoder\u001b[39m.\u001b[39mfit_transform(X_features[x])\n\u001b[0;32m----> 4\u001b[0m X_features\u001b[39m.\u001b[39mdrop(\u001b[39m'\u001b[39m\u001b[39mrespondent_id\u001b[39m\u001b[39m'\u001b[39m,\u001b[39m'\u001b[39m\u001b[39mhealth_insurance\u001b[39m\u001b[39m'\u001b[39m, axis\u001b[39m=\u001b[39m\u001b[39m1\u001b[39m)\n",
      "File \u001b[0;32m~/.local/lib/python3.10/site-packages/pandas/util/_decorators.py:317\u001b[0m, in \u001b[0;36mdeprecate_nonkeyword_arguments.<locals>.decorate.<locals>.wrapper\u001b[0;34m(*args, **kwargs)\u001b[0m\n\u001b[1;32m    311\u001b[0m \u001b[39mif\u001b[39;00m \u001b[39mlen\u001b[39m(args) \u001b[39m>\u001b[39m num_allow_args:\n\u001b[1;32m    312\u001b[0m     warnings\u001b[39m.\u001b[39mwarn(\n\u001b[1;32m    313\u001b[0m         msg\u001b[39m.\u001b[39mformat(arguments\u001b[39m=\u001b[39marguments),\n\u001b[1;32m    314\u001b[0m         \u001b[39mFutureWarning\u001b[39;00m,\n\u001b[1;32m    315\u001b[0m         stacklevel\u001b[39m=\u001b[39mfind_stack_level(inspect\u001b[39m.\u001b[39mcurrentframe()),\n\u001b[1;32m    316\u001b[0m     )\n\u001b[0;32m--> 317\u001b[0m \u001b[39mreturn\u001b[39;00m func(\u001b[39m*\u001b[39;49margs, \u001b[39m*\u001b[39;49m\u001b[39m*\u001b[39;49mkwargs)\n",
      "\u001b[0;31mTypeError\u001b[0m: DataFrame.drop() got multiple values for argument 'axis'"
     ]
    }
   ],
   "source": [
    "X_features=pd.read_csv('test_set_features.csv')\n",
    "for x in string:\n",
    "    X_features[x]=label_encoder.fit_transform(X_features[x])\n",
    "X_features=X_features.drop('respondent_id', axis=1)\n",
    "X_features=X_features.drop("
   ]
  },
  {
   "cell_type": "code",
   "execution_count": null,
   "metadata": {},
   "outputs": [],
   "source": [
    "clf= RandomForestClassifier(n_estimators=96)\n",
    "clf.fit(X,y)\n",
    "q=clf.predict(X_features)\n",
    "q.head()"
   ]
  }
 ],
 "metadata": {
  "kernelspec": {
   "display_name": "Python 3",
   "language": "python",
   "name": "python3"
  },
  "language_info": {
   "codemirror_mode": {
    "name": "ipython",
    "version": 3
   },
   "file_extension": ".py",
   "mimetype": "text/x-python",
   "name": "python",
   "nbconvert_exporter": "python",
   "pygments_lexer": "ipython3",
   "version": "3.10.9"
  },
  "orig_nbformat": 4,
  "vscode": {
   "interpreter": {
    "hash": "e7370f93d1d0cde622a1f8e1c04877d8463912d04d973331ad4851f04de6915a"
   }
  }
 },
 "nbformat": 4,
 "nbformat_minor": 2
}
